{
 "cells": [
  {
   "cell_type": "code",
   "execution_count": 180,
   "id": "96aff2d0-4122-43ab-a245-7506097e789d",
   "metadata": {},
   "outputs": [
    {
     "name": "stdout",
     "output_type": "stream",
     "text": [
      "Libraries Imported\n"
     ]
    }
   ],
   "source": [
    "from textblob import TextBlob\n",
    "import spacy\n",
    "from spacy.lang.en import English\n",
    "from spacy import displacy\n",
    "import en_core_web_sm\n",
    "import sys\n",
    "import tweepy\n",
    "import matplotlib.pyplot as plt\n",
    "import pandas as pd\n",
    "import numpy as np\n",
    "import os\n",
    "import nltk\n",
    "import pycountry\n",
    "import re\n",
    "import string\n",
    "from nltk.sentiment.vader import SentimentIntensityAnalyzer\n",
    "from langdetect import detect \n",
    "from nltk.stem import SnowballStemmer\n",
    "from nltk.sentiment.vader import SentimentIntensityAnalyzer\n",
    "from sklearn.feature_extraction.text import CountVectorizer\n",
    "import sklearn.metrics as metrics\n",
    "from sklearn.metrics import r2_score\n",
    "from sklearn.model_selection import train_test_split\n",
    "from sklearn.linear_model import LogisticRegression\n",
    "import warnings\n",
    "warnings.filterwarnings('ignore')\n",
    "print(\"Libraries Imported\")"
   ]
  },
  {
   "cell_type": "code",
   "execution_count": 181,
   "id": "a60ff66b-a8ec-45a1-b542-90bd3b7e7450",
   "metadata": {},
   "outputs": [
    {
     "name": "stdout",
     "output_type": "stream",
     "text": [
      "API Authentication\n"
     ]
    }
   ],
   "source": [
    "consumerKey = \"cXOzZBpX78BW0HRmmS9hcDM5c\"\n",
    "consumerSecret = \"55uqYYrGhw0Ca7QQhIUFH2t1K6k7IliYckfofUSCVhufSJ71H6\"\n",
    "accessToken = \"1083286165845954560-LBqZLPApyhVsouDh8XzPoEQ1yPDWmO\"\n",
    "accessTokenSecret = \"4bb8cDkRDH63lpYiNjIy4m9DIMH4hw9FktWR6X7gzCeBq\"\n",
    "auth = tweepy.OAuthHandler(consumerKey, consumerSecret)\n",
    "auth.set_access_token(accessToken, accessTokenSecret)\n",
    "api = tweepy.API(auth, wait_on_rate_limit=True)\n",
    "\n",
    "print(\"API Authentication\")"
   ]
  },
  {
   "cell_type": "code",
   "execution_count": 182,
   "id": "1eb1dde1-4815-4a3a-98a5-89c4b948267b",
   "metadata": {},
   "outputs": [],
   "source": [
    "nlp = English()"
   ]
  },
  {
   "cell_type": "code",
   "execution_count": 183,
   "id": "378b1c63-6545-490e-9aeb-59df275e91fe",
   "metadata": {},
   "outputs": [],
   "source": [
    "def tweet_cleaning(x): #remove link\n",
    "    remove_RT = lambda x: re.compile('\\#').sub('', re.compile('RT @').sub('@', x, count=1).strip())\n",
    "    x = remove_RT(x)\n",
    "    entity_prefixes = ['@','#']\n",
    "    for separator in  string.punctuation:\n",
    "        if separator not in entity_prefixes :\n",
    "            x = x.replace(separator,' ')\n",
    "    words = []\n",
    "    for word in x.split():\n",
    "        word = word.strip()\n",
    "        if word:\n",
    "            if word[0] not in entity_prefixes:\n",
    "                words.append(word)\n",
    "    return ' '.join(words)"
   ]
  },
  {
   "cell_type": "code",
   "execution_count": 184,
   "id": "5981b277-0ada-4c68-8941-38047b385873",
   "metadata": {},
   "outputs": [],
   "source": [
    "def tweet_sentiment_analysis(x):\n",
    "    the_tweet = TextBlob(x)\n",
    "    pol = the_tweet.sentiment.polarity\n",
    "    sub = the_tweet.sentiment.subjectivity\n",
    "    score = SentimentIntensityAnalyzer().polarity_scores(x)\n",
    "    neg = score['neg']\n",
    "    pos = score['pos']\n",
    "    neu = score['neu']\n",
    "    comp = score['compound']\n",
    "    sentiment = ''\n",
    "    if pos > neg :\n",
    "        sentiment = 'Positive'\n",
    "    elif pos < neg :\n",
    "        sentiment = 'Negative'\n",
    "    else :\n",
    "        sentiment = 'Neutral'\n",
    "    return int(pol*100), int(sub*100), score, int(neg*100),int(pos*100) , int(neu*100), int(comp*100),sentiment"
   ]
  },
  {
   "cell_type": "code",
   "execution_count": 185,
   "id": "07fa1b3b-24e7-4017-9ce2-2ad28dc71b9d",
   "metadata": {},
   "outputs": [],
   "source": [
    "def tweet_tokenizer(x) :\n",
    "    text = x\n",
    "    my_doc = nlp(text)\n",
    "    tokens = []\n",
    "    for token in my_doc :\n",
    "        tokens.append(token.text)\n",
    "    return tokens"
   ]
  },
  {
   "cell_type": "code",
   "execution_count": 186,
   "id": "f145ad11-406a-4280-a6af-3e95d9c45ed8",
   "metadata": {},
   "outputs": [],
   "source": [
    "def percentage(part,whole):\n",
    "    return 100 * float(part)/float(whole)"
   ]
  },
  {
   "cell_type": "code",
   "execution_count": 193,
   "id": "7aa7cf25-6925-4e08-bc17-54cd4c54e293",
   "metadata": {},
   "outputs": [],
   "source": [
    "def get_tweets(keyword, noOfTweet) :\n",
    "    tweets = tweepy.Cursor(api.search,q=keyword, lang=\"en\").items(noOfTweet)\n",
    "    tweet_list = []\n",
    "    cleaned_tweets_list = []\n",
    "    for tweet in tweets :\n",
    "        tweet_list.append(tweet.text)\n",
    "        cleaned_tweet = tweet_cleaning(tweet.text)\n",
    "        cleaned_tweets_list.append(cleaned_tweet)\n",
    "    return tweet_list,cleaned_tweets_list"
   ]
  },
  {
   "cell_type": "code",
   "execution_count": 199,
   "id": "20c21d18-b705-427c-ab99-28158dff3573",
   "metadata": {},
   "outputs": [
    {
     "name": "stdout",
     "output_type": "stream",
     "text": [
      "% of tweets that are positive: 45.1\n",
      "% of tweets that are negative: 13.6\n",
      "% of tweets that are neutral: 41.3\n"
     ]
    }
   ],
   "source": [
    "def get_sentiment_percentage(cleaned_tweets_list, positive_tweet_list, negative_tweet_list, neutral_tweet_list) :\n",
    "    positive_percentage = percentage(len(positive_tweet_list), len(cleaned_tweets_list))\n",
    "    negative_percentage = percentage(len(negative_tweet_list), len(cleaned_tweets_list))\n",
    "    neutral_percentage = percentage(len(neutral_tweet_list), len(cleaned_tweets_list))\n",
    "    return positive_percentage, negative_percentage, neutral_percentage\n"
   ]
  },
  {
   "cell_type": "code",
   "execution_count": 194,
   "id": "1a2ba19b-4967-45e4-adc2-0301823a6856",
   "metadata": {},
   "outputs": [],
   "source": [
    "def final_data_generation(cleaned_tweets_list) :\n",
    "    counter = 0 \n",
    "    polarity_list = []\n",
    "    subjectivity_list = []\n",
    "    positive_tweet_list = []\n",
    "    negative_tweet_list = []\n",
    "    neutral_tweet_list = []\n",
    "    score_tweet_list = []\n",
    "    positivty = []\n",
    "    negativity = []\n",
    "    neutralness = []\n",
    "    compoundness = []\n",
    "    df_tweetdata = pd.DataFrame(columns = ['Tweet','Polarity','Subjectivity','Sentiment','Positivity','Negativity','Neutralness','Compoundness'])\n",
    "    \n",
    "    for x in cleaned_tweets_list :\n",
    "        tweet_pol, tweet_sub, score, neg, pos, neu, comp, sentiment = tweet_sentiment_analysis(x)\n",
    "        \n",
    "        positivty.append(pos)\n",
    "        negativity.append(neg)\n",
    "        neutralness.append(neu)\n",
    "        compoundness.append(comp)\n",
    "        polarity_list.append(tweet_pol)\n",
    "        subjectivity_list.append(tweet_sub)\n",
    "        score_tweet_list.append(sentiment)\n",
    "        \n",
    "        if pos > neg :\n",
    "            positive_tweet_list.append(x)        \n",
    "        elif neg > pos :\n",
    "            negative_tweet_list.append(x)\n",
    "        elif pos == neg :\n",
    "            neutral_tweet_list.append(x)\n",
    "    \n",
    "    df_tweetdata['Tweet'] = cleaned_tweets_list\n",
    "    df_tweetdata['Polarity'] = polarity_list\n",
    "    df_tweetdata['Subjectivity'] = subjectivity_list\n",
    "    df_tweetdata['Sentiment'] = score_tweet_list\n",
    "    df_tweetdata['Positivity'] = positivty\n",
    "    df_tweetdata['Negativity'] = negativity\n",
    "    df_tweetdata['Neutralness'] = neutralness\n",
    "    df_tweetdata['Compoundness'] = compoundness\n",
    "    \n",
    "    positive_percentage, negative_percentage, neutral_percentage = get_sentiment_percentage(cleaned_tweets_list, positive_tweet_list, negative_tweet_list, neutral_tweet_list)\n",
    "    \n",
    "    return polarity_list,subjectivity_list,positive_percentage,negative_percentage,neutral_percentage,score_tweet_list,positivty,negativity,neutralness,compoundness,df_tweetdata"
   ]
  },
  {
   "cell_type": "code",
   "execution_count": 198,
   "id": "0837f040-2d3f-4a15-a1fe-fa5958313bda",
   "metadata": {},
   "outputs": [
    {
     "name": "stdin",
     "output_type": "stream",
     "text": [
      "Please enter keyword or hashtag to search:  spacex\n",
      "Please enter how many tweets to analyze:  1000\n"
     ]
    }
   ],
   "source": [
    "keyword = input(\"Please enter keyword or hashtag to search: \")\n",
    "noOfTweet = int(input (\"Please enter how many tweets to analyze: \"))\n",
    "tweet_list, cleaned_tweets_list = get_tweets(keyword, noOfTweet)\n",
    "polarity_list,subjectivity_list,positive_percentage, negative_percentage, neutral_percentage,score_tweet_list,positivty,negativity,neutralness,compoundness,df_tweetdata = final_data_generation(cleaned_tweets_list)\n"
   ]
  },
  {
   "cell_type": "code",
   "execution_count": 220,
   "id": "c447a809-4baf-4b1c-a55c-d8104aa337ca",
   "metadata": {},
   "outputs": [
    {
     "name": "stdout",
     "output_type": "stream",
     "text": [
      "Percentage of Positive:\t 45.1\n",
      "Percentage of Negative:\t 13.6\n",
      "Percentage of Neutral:\t 41.3\n"
     ]
    }
   ],
   "source": [
    "print(\"Percentage of Positive:\\t\",positive_percentage)\n",
    "print(\"Percentage of Negative:\\t\",negative_percentage)\n",
    "print(\"Percentage of Neutral:\\t\",neutral_percentage)"
   ]
  },
  {
   "cell_type": "code",
   "execution_count": 104,
   "id": "2fb89928-a2c4-458c-af8e-f69eb32e3401",
   "metadata": {
    "collapsed": true,
    "jupyter": {
     "outputs_hidden": true,
     "source_hidden": true
    },
    "tags": []
   },
   "outputs": [
    {
     "data": {
      "text/plain": [
       "1000"
      ]
     },
     "execution_count": 104,
     "metadata": {},
     "output_type": "execute_result"
    }
   ],
   "source": [
    "# cleaned_tweets_list = []\n",
    "# for x in tweet_list :\n",
    "#     cleaned_tweet = tweet_cleaning(x)\n",
    "#     cleaned_tweets_list.append(cleaned_tweet)\n",
    "# len(cleaned_tweets_list)"
   ]
  },
  {
   "cell_type": "code",
   "execution_count": 105,
   "id": "573db665-0d5e-46b6-a7ee-b202b0bead0a",
   "metadata": {
    "jupyter": {
     "source_hidden": true
    },
    "tags": []
   },
   "outputs": [],
   "source": [
    "#The compound score is the sum of positive, negative & neutral scores which is then normalized \n",
    "#between -1(most extreme negative) and +1 (most extreme positive). \n",
    "#The more Compound score closer to +1, the higher the positivity of the text."
   ]
  },
  {
   "cell_type": "code",
   "execution_count": 136,
   "id": "42979977-2932-4d4c-9ba2-16fe0b3d6e71",
   "metadata": {
    "jupyter": {
     "source_hidden": true
    },
    "tags": []
   },
   "outputs": [],
   "source": [
    "# counter = 0 \n",
    "# polarity_list = []\n",
    "# subjectivity_list = []\n",
    "# positive_tweet_list = []\n",
    "# negative_tweet_list = []\n",
    "# neutral_tweet_list = []\n",
    "# score_tweet_list = []\n",
    "# positivty = []\n",
    "# negativity = []\n",
    "# neutralness = []\n",
    "# compoundness = []\n",
    "# df_tweetdata = pd.DataFrame(columns = ['Tweet','Polarity','Subjectivity','Sentiment','Positivity','Negativity','Neutralness','Compoundness'])\n",
    "# for x in cleaned_tweets_list :\n",
    "#     tweet_pol, tweet_sub, score, neg, pos, neu, comp, sentiment = tweet_sentiment_analysis(x)\n",
    "#     #print(counter+1,\"\\n\",\"Tweet:\",x,\"\\nPolarity:\", tweet_pol,\"\\nSubjectivity\",tweet_sub,\"\\nScore: Neg\", neg, \"Pos\", pos, \"Neutral\", neu, \"Compound\", comp)\n",
    "#     positivty.append(pos)\n",
    "#     negativity.append(neg)\n",
    "#     neutralness.append(neu)\n",
    "#     compoundness.append(comp)\n",
    "#     polarity_list.append(tweet_pol)\n",
    "#     subjectivity_list.append(tweet_sub)\n",
    "#     score_tweet_list.append(sentiment)\n",
    "#     if pos > neg :\n",
    "#         positive_tweet_list.append(x)        \n",
    "#     elif neg > pos :\n",
    "#         negative_tweet_list.append(x)\n",
    "#     elif pos == neg :\n",
    "#         neutral_tweet_list.append(x)\n",
    "# df_tweetdata['Tweet'] = cleaned_tweets_list\n",
    "# df_tweetdata['Polarity'] = polarity_list\n",
    "# df_tweetdata['Subjectivity'] = subjectivity_list\n",
    "# df_tweetdata['Sentiment'] = score_tweet_list\n",
    "# df_tweetdata['Positivity'] = positivty\n",
    "# df_tweetdata['Negativity'] = negativity\n",
    "# df_tweetdata['Neutralness'] = neutralness\n",
    "# df_tweetdata['Compoundness'] = compoundness\n"
   ]
  },
  {
   "cell_type": "code",
   "execution_count": 197,
   "id": "4a9414cb-6b59-44a2-a030-f0a4ee5b174e",
   "metadata": {
    "tags": []
   },
   "outputs": [
    {
     "data": {
      "text/html": [
       "<div>\n",
       "<style scoped>\n",
       "    .dataframe tbody tr th:only-of-type {\n",
       "        vertical-align: middle;\n",
       "    }\n",
       "\n",
       "    .dataframe tbody tr th {\n",
       "        vertical-align: top;\n",
       "    }\n",
       "\n",
       "    .dataframe thead th {\n",
       "        text-align: right;\n",
       "    }\n",
       "</style>\n",
       "<table border=\"1\" class=\"dataframe\">\n",
       "  <thead>\n",
       "    <tr style=\"text-align: right;\">\n",
       "      <th></th>\n",
       "      <th>Tweet</th>\n",
       "      <th>Polarity</th>\n",
       "      <th>Subjectivity</th>\n",
       "      <th>Sentiment</th>\n",
       "      <th>Positivity</th>\n",
       "      <th>Negativity</th>\n",
       "      <th>Neutralness</th>\n",
       "      <th>Compoundness</th>\n",
       "    </tr>\n",
       "  </thead>\n",
       "  <tbody>\n",
       "    <tr>\n",
       "      <th>0</th>\n",
       "      <td>Tug Finn Falgout is hooking up to A Shortfall ...</td>\n",
       "      <td>0</td>\n",
       "      <td>0</td>\n",
       "      <td>Positive</td>\n",
       "      <td>12</td>\n",
       "      <td>0</td>\n",
       "      <td>87</td>\n",
       "      <td>36</td>\n",
       "    </tr>\n",
       "    <tr>\n",
       "      <th>1</th>\n",
       "      <td>SpaceX While I think governments overstated th...</td>\n",
       "      <td>43</td>\n",
       "      <td>73</td>\n",
       "      <td>Positive</td>\n",
       "      <td>19</td>\n",
       "      <td>10</td>\n",
       "      <td>70</td>\n",
       "      <td>26</td>\n",
       "    </tr>\n",
       "    <tr>\n",
       "      <th>2</th>\n",
       "      <td>There s no coin like Marscoin Marscoin Marscoi...</td>\n",
       "      <td>0</td>\n",
       "      <td>0</td>\n",
       "      <td>Positive</td>\n",
       "      <td>15</td>\n",
       "      <td>14</td>\n",
       "      <td>70</td>\n",
       "      <td>7</td>\n",
       "    </tr>\n",
       "    <tr>\n",
       "      <th>3</th>\n",
       "      <td>Tug Finn Falgout is hooking up to A Shortfall ...</td>\n",
       "      <td>0</td>\n",
       "      <td>0</td>\n",
       "      <td>Positive</td>\n",
       "      <td>12</td>\n",
       "      <td>0</td>\n",
       "      <td>87</td>\n",
       "      <td>36</td>\n",
       "    </tr>\n",
       "    <tr>\n",
       "      <th>4</th>\n",
       "      <td>SpaceX has posted that iconic black and white ...</td>\n",
       "      <td>11</td>\n",
       "      <td>31</td>\n",
       "      <td>Positive</td>\n",
       "      <td>18</td>\n",
       "      <td>0</td>\n",
       "      <td>81</td>\n",
       "      <td>63</td>\n",
       "    </tr>\n",
       "    <tr>\n",
       "      <th>5</th>\n",
       "      <td>CGI IRL Only comic books and movies ever talke...</td>\n",
       "      <td>12</td>\n",
       "      <td>75</td>\n",
       "      <td>Neutral</td>\n",
       "      <td>0</td>\n",
       "      <td>0</td>\n",
       "      <td>100</td>\n",
       "      <td>0</td>\n",
       "    </tr>\n",
       "    <tr>\n",
       "      <th>6</th>\n",
       "      <td>SpaceX continues testing Raptor rocket engines...</td>\n",
       "      <td>0</td>\n",
       "      <td>0</td>\n",
       "      <td>Neutral</td>\n",
       "      <td>0</td>\n",
       "      <td>0</td>\n",
       "      <td>100</td>\n",
       "      <td>0</td>\n",
       "    </tr>\n",
       "    <tr>\n",
       "      <th>7</th>\n",
       "      <td>Tug Finn Falgout is hooking up to A Shortfall ...</td>\n",
       "      <td>0</td>\n",
       "      <td>0</td>\n",
       "      <td>Positive</td>\n",
       "      <td>12</td>\n",
       "      <td>0</td>\n",
       "      <td>87</td>\n",
       "      <td>36</td>\n",
       "    </tr>\n",
       "    <tr>\n",
       "      <th>8</th>\n",
       "      <td>NASA rover marks nine years on Mars with glori...</td>\n",
       "      <td>12</td>\n",
       "      <td>62</td>\n",
       "      <td>Positive</td>\n",
       "      <td>18</td>\n",
       "      <td>0</td>\n",
       "      <td>81</td>\n",
       "      <td>63</td>\n",
       "    </tr>\n",
       "    <tr>\n",
       "      <th>9</th>\n",
       "      <td>SpaceX Starlink satellites responsible for ove...</td>\n",
       "      <td>1</td>\n",
       "      <td>35</td>\n",
       "      <td>Positive</td>\n",
       "      <td>11</td>\n",
       "      <td>0</td>\n",
       "      <td>88</td>\n",
       "      <td>31</td>\n",
       "    </tr>\n",
       "  </tbody>\n",
       "</table>\n",
       "</div>"
      ],
      "text/plain": [
       "                                               Tweet  Polarity  Subjectivity  \\\n",
       "0  Tug Finn Falgout is hooking up to A Shortfall ...         0             0   \n",
       "1  SpaceX While I think governments overstated th...        43            73   \n",
       "2  There s no coin like Marscoin Marscoin Marscoi...         0             0   \n",
       "3  Tug Finn Falgout is hooking up to A Shortfall ...         0             0   \n",
       "4  SpaceX has posted that iconic black and white ...        11            31   \n",
       "5  CGI IRL Only comic books and movies ever talke...        12            75   \n",
       "6  SpaceX continues testing Raptor rocket engines...         0             0   \n",
       "7  Tug Finn Falgout is hooking up to A Shortfall ...         0             0   \n",
       "8  NASA rover marks nine years on Mars with glori...        12            62   \n",
       "9  SpaceX Starlink satellites responsible for ove...         1            35   \n",
       "\n",
       "  Sentiment  Positivity  Negativity  Neutralness  Compoundness  \n",
       "0  Positive          12           0           87            36  \n",
       "1  Positive          19          10           70            26  \n",
       "2  Positive          15          14           70             7  \n",
       "3  Positive          12           0           87            36  \n",
       "4  Positive          18           0           81            63  \n",
       "5   Neutral           0           0          100             0  \n",
       "6   Neutral           0           0          100             0  \n",
       "7  Positive          12           0           87            36  \n",
       "8  Positive          18           0           81            63  \n",
       "9  Positive          11           0           88            31  "
      ]
     },
     "execution_count": 197,
     "metadata": {},
     "output_type": "execute_result"
    }
   ],
   "source": [
    "df_tweetdata.head(20)"
   ]
  },
  {
   "cell_type": "code",
   "execution_count": 200,
   "id": "c56abc48-5690-4ad3-9b73-3bd0e8dc482f",
   "metadata": {},
   "outputs": [
    {
     "data": {
      "text/plain": [
       "(1000, 8)"
      ]
     },
     "execution_count": 200,
     "metadata": {},
     "output_type": "execute_result"
    }
   ],
   "source": [
    "df_tweetdata.shape"
   ]
  },
  {
   "cell_type": "code",
   "execution_count": 201,
   "id": "eb20647f-deca-4ebb-9186-d60ade102a0d",
   "metadata": {
    "tags": []
   },
   "outputs": [],
   "source": [
    "df_tweetdata.drop_duplicates(inplace=True)\n",
    "df_tweetdata.reset_index(inplace=True)"
   ]
  },
  {
   "cell_type": "code",
   "execution_count": 202,
   "id": "10cf9581-b920-4b9e-ba1e-02233c3bcc48",
   "metadata": {},
   "outputs": [
    {
     "data": {
      "text/plain": [
       "(539, 9)"
      ]
     },
     "execution_count": 202,
     "metadata": {},
     "output_type": "execute_result"
    }
   ],
   "source": [
    "df_tweetdata.shape"
   ]
  },
  {
   "cell_type": "code",
   "execution_count": 203,
   "id": "3ba6b102-670c-478a-bf8b-f1370a173e8c",
   "metadata": {},
   "outputs": [],
   "source": [
    "#df_tweetdata.to_csv('Tweet_Hype_Data_2.csv')"
   ]
  },
  {
   "cell_type": "code",
   "execution_count": 204,
   "id": "ea88a758-6042-4d7e-b58e-3baa5fd899fd",
   "metadata": {},
   "outputs": [],
   "source": [
    "token_list = []\n",
    "index_list = []\n",
    "counter = 0\n",
    "for x in cleaned_tweets_list:\n",
    "    tokens = tweet_tokenizer(x)\n",
    "    token_list.append(tokens)\n",
    "    counter += len(tokens)\n",
    "    index_list.append(counter)"
   ]
  },
  {
   "cell_type": "code",
   "execution_count": 205,
   "id": "e5c4c67c-b90f-4ba4-918a-97fcaa549c18",
   "metadata": {
    "tags": []
   },
   "outputs": [
    {
     "name": "stdout",
     "output_type": "stream",
     "text": [
      "cleaned_tweets_list 1000\n",
      "token_list 1000\n"
     ]
    }
   ],
   "source": [
    "#printed out token_list and index_list\n",
    "print(\"cleaned_tweets_list\",len(cleaned_tweets_list))\n",
    "print(\"token_list\",len(token_list))"
   ]
  },
  {
   "cell_type": "code",
   "execution_count": 208,
   "id": "a8bb9b7c-2530-435f-811a-9304db9ae4b1",
   "metadata": {
    "tags": []
   },
   "outputs": [],
   "source": [
    "tweet_tokens = []\n",
    "tweet_POS = []\n",
    "for x in cleaned_tweets_list :\n",
    "    tokens_POS = TextBlob(x)\n",
    "    res = [[ i for i, j in tokens_POS.tags ],[ j for i, j in tokens_POS.tags ]]\n",
    "#     for y in res :\n",
    "#         tweet_tokens.append(y[0])\n",
    "#         tweet_POS.append(y[1])\n",
    "    #print(tokens_POS.tags)\n",
    "    #tokens_POS_list.append(tokens_POS.tags)\n"
   ]
  },
  {
   "cell_type": "code",
   "execution_count": 209,
   "id": "a9f4fb3e-e2fd-4ea3-843b-0ef050b2f2ba",
   "metadata": {},
   "outputs": [],
   "source": [
    "from sklearn.preprocessing import LabelEncoder\n",
    "enc = LabelEncoder()\n",
    "df_tweetdata.Sentiment = enc.fit_transform(df_tweetdata.Sentiment)\n",
    "# df_tweetdata.Polarity = enc.fit_transform(df_tweetdata.Polarity)\n",
    "# df_tweetdata.Subjectivity = enc.fit_transform(df_tweetdata.Subjectivity)\n",
    "# df_tweetdata.Positivity = enc.fit_transform(df_tweetdata.Positivity)\n",
    "# df_tweetdata.Negativity = enc.fit_transform(df_tweetdata.Negativity)\n",
    "# df_tweetdata.Neutralness = enc.fit_transform(df_tweetdata.Neutralness)\n",
    "# df_tweetdata.Compoundness = enc.fit_transform(df_tweetdata.Compoundness)"
   ]
  },
  {
   "cell_type": "code",
   "execution_count": 211,
   "id": "e819772c-b009-4f82-a8fb-72d330e70577",
   "metadata": {},
   "outputs": [
    {
     "data": {
      "text/html": [
       "<div>\n",
       "<style scoped>\n",
       "    .dataframe tbody tr th:only-of-type {\n",
       "        vertical-align: middle;\n",
       "    }\n",
       "\n",
       "    .dataframe tbody tr th {\n",
       "        vertical-align: top;\n",
       "    }\n",
       "\n",
       "    .dataframe thead th {\n",
       "        text-align: right;\n",
       "    }\n",
       "</style>\n",
       "<table border=\"1\" class=\"dataframe\">\n",
       "  <thead>\n",
       "    <tr style=\"text-align: right;\">\n",
       "      <th></th>\n",
       "      <th>index</th>\n",
       "      <th>Tweet</th>\n",
       "      <th>Polarity</th>\n",
       "      <th>Subjectivity</th>\n",
       "      <th>Sentiment</th>\n",
       "      <th>Positivity</th>\n",
       "      <th>Negativity</th>\n",
       "      <th>Neutralness</th>\n",
       "      <th>Compoundness</th>\n",
       "    </tr>\n",
       "  </thead>\n",
       "  <tbody>\n",
       "    <tr>\n",
       "      <th>0</th>\n",
       "      <td>0</td>\n",
       "      <td>SpaceX There is no guarantee that if everyone ...</td>\n",
       "      <td>0</td>\n",
       "      <td>0</td>\n",
       "      <td>0</td>\n",
       "      <td>7</td>\n",
       "      <td>8</td>\n",
       "      <td>83</td>\n",
       "      <td>-5</td>\n",
       "    </tr>\n",
       "    <tr>\n",
       "      <th>1</th>\n",
       "      <td>1</td>\n",
       "      <td>SpaceX has posted that iconic black and white ...</td>\n",
       "      <td>11</td>\n",
       "      <td>31</td>\n",
       "      <td>2</td>\n",
       "      <td>18</td>\n",
       "      <td>0</td>\n",
       "      <td>81</td>\n",
       "      <td>63</td>\n",
       "    </tr>\n",
       "    <tr>\n",
       "      <th>2</th>\n",
       "      <td>3</td>\n",
       "      <td>At least they dont trash talk SpaceX https t c...</td>\n",
       "      <td>-30</td>\n",
       "      <td>40</td>\n",
       "      <td>1</td>\n",
       "      <td>0</td>\n",
       "      <td>0</td>\n",
       "      <td>100</td>\n",
       "      <td>0</td>\n",
       "    </tr>\n",
       "    <tr>\n",
       "      <th>3</th>\n",
       "      <td>4</td>\n",
       "      <td>That s not possible for the forward flaps If y...</td>\n",
       "      <td>0</td>\n",
       "      <td>100</td>\n",
       "      <td>1</td>\n",
       "      <td>0</td>\n",
       "      <td>0</td>\n",
       "      <td>100</td>\n",
       "      <td>0</td>\n",
       "    </tr>\n",
       "    <tr>\n",
       "      <th>4</th>\n",
       "      <td>6</td>\n",
       "      <td>Tug Finn Falgout is hooking up to A Shortfall ...</td>\n",
       "      <td>0</td>\n",
       "      <td>0</td>\n",
       "      <td>2</td>\n",
       "      <td>12</td>\n",
       "      <td>0</td>\n",
       "      <td>87</td>\n",
       "      <td>36</td>\n",
       "    </tr>\n",
       "    <tr>\n",
       "      <th>5</th>\n",
       "      <td>7</td>\n",
       "      <td>SpaceX While I think governments overstated th...</td>\n",
       "      <td>43</td>\n",
       "      <td>73</td>\n",
       "      <td>2</td>\n",
       "      <td>19</td>\n",
       "      <td>10</td>\n",
       "      <td>70</td>\n",
       "      <td>26</td>\n",
       "    </tr>\n",
       "    <tr>\n",
       "      <th>6</th>\n",
       "      <td>8</td>\n",
       "      <td>There s no coin like Marscoin Marscoin Marscoi...</td>\n",
       "      <td>0</td>\n",
       "      <td>0</td>\n",
       "      <td>2</td>\n",
       "      <td>15</td>\n",
       "      <td>14</td>\n",
       "      <td>70</td>\n",
       "      <td>7</td>\n",
       "    </tr>\n",
       "    <tr>\n",
       "      <th>7</th>\n",
       "      <td>11</td>\n",
       "      <td>CGI IRL Only comic books and movies ever talke...</td>\n",
       "      <td>12</td>\n",
       "      <td>75</td>\n",
       "      <td>1</td>\n",
       "      <td>0</td>\n",
       "      <td>0</td>\n",
       "      <td>100</td>\n",
       "      <td>0</td>\n",
       "    </tr>\n",
       "    <tr>\n",
       "      <th>8</th>\n",
       "      <td>12</td>\n",
       "      <td>SpaceX continues testing Raptor rocket engines...</td>\n",
       "      <td>0</td>\n",
       "      <td>0</td>\n",
       "      <td>1</td>\n",
       "      <td>0</td>\n",
       "      <td>0</td>\n",
       "      <td>100</td>\n",
       "      <td>0</td>\n",
       "    </tr>\n",
       "    <tr>\n",
       "      <th>9</th>\n",
       "      <td>14</td>\n",
       "      <td>NASA rover marks nine years on Mars with glori...</td>\n",
       "      <td>12</td>\n",
       "      <td>62</td>\n",
       "      <td>2</td>\n",
       "      <td>18</td>\n",
       "      <td>0</td>\n",
       "      <td>81</td>\n",
       "      <td>63</td>\n",
       "    </tr>\n",
       "  </tbody>\n",
       "</table>\n",
       "</div>"
      ],
      "text/plain": [
       "   index                                              Tweet  Polarity  \\\n",
       "0      0  SpaceX There is no guarantee that if everyone ...         0   \n",
       "1      1  SpaceX has posted that iconic black and white ...        11   \n",
       "2      3  At least they dont trash talk SpaceX https t c...       -30   \n",
       "3      4  That s not possible for the forward flaps If y...         0   \n",
       "4      6  Tug Finn Falgout is hooking up to A Shortfall ...         0   \n",
       "5      7  SpaceX While I think governments overstated th...        43   \n",
       "6      8  There s no coin like Marscoin Marscoin Marscoi...         0   \n",
       "7     11  CGI IRL Only comic books and movies ever talke...        12   \n",
       "8     12  SpaceX continues testing Raptor rocket engines...         0   \n",
       "9     14  NASA rover marks nine years on Mars with glori...        12   \n",
       "\n",
       "   Subjectivity  Sentiment  Positivity  Negativity  Neutralness  Compoundness  \n",
       "0             0          0           7           8           83            -5  \n",
       "1            31          2          18           0           81            63  \n",
       "2            40          1           0           0          100             0  \n",
       "3           100          1           0           0          100             0  \n",
       "4             0          2          12           0           87            36  \n",
       "5            73          2          19          10           70            26  \n",
       "6             0          2          15          14           70             7  \n",
       "7            75          1           0           0          100             0  \n",
       "8             0          1           0           0          100             0  \n",
       "9            62          2          18           0           81            63  "
      ]
     },
     "execution_count": 211,
     "metadata": {},
     "output_type": "execute_result"
    }
   ],
   "source": [
    "df_tweetdata.head(10)"
   ]
  },
  {
   "cell_type": "code",
   "execution_count": 212,
   "id": "2c5ccbcc-6e2c-4075-aa2e-9080e17faf39",
   "metadata": {},
   "outputs": [
    {
     "data": {
      "image/png": "[encoded data removed]",
      "text/plain": [
       "<Figure size 1080x576 with 2 Axes>"
      ]
     },
     "metadata": {
      "needs_background": "light"
     },
     "output_type": "display_data"
    }
   ],
   "source": [
    "import seaborn as sns\n",
    "c = df_tweetdata.corr(method = 'kendall')\n",
    "plt.figure(figsize=(15,8))\n",
    "sns.heatmap(c, annot=True)\n",
    "plt.show()"
   ]
  },
  {
   "cell_type": "code",
   "execution_count": 213,
   "id": "caf1ea4d-efe7-4701-81ad-6defe93b78ed",
   "metadata": {},
   "outputs": [],
   "source": [
    "feature_cols = ['Subjectivity','Sentiment','Positivity','Negativity','Compoundness']\n",
    "X = df_tweetdata[feature_cols] # Features\n",
    "y = df_tweetdata.Polarity # Target variable"
   ]
  },
  {
   "cell_type": "code",
   "execution_count": 214,
   "id": "11aa99de-0ca9-4a6f-8bfe-135a10d663e2",
   "metadata": {},
   "outputs": [],
   "source": [
    "#X_train,X_test,y_train,y_test=train_test_split(X,y,test_size=0.25,random_state=0)"
   ]
  },
  {
   "cell_type": "code",
   "execution_count": 215,
   "id": "c3d30747-8b5a-45e3-b1c7-896d9518693e",
   "metadata": {},
   "outputs": [],
   "source": [
    "logreg = LogisticRegression()"
   ]
  },
  {
   "cell_type": "code",
   "execution_count": 216,
   "id": "3a437225-d538-4453-b249-38bfe931729c",
   "metadata": {},
   "outputs": [
    {
     "name": "stdout",
     "output_type": "stream",
     "text": [
      "0.7222222222222222\n"
     ]
    }
   ],
   "source": [
    "ts_score=[]\n",
    "for j in range(1000):\n",
    "    X_train,X_test,y_train,y_test=train_test_split(X,y,test_size=0.20,random_state=j)\n",
    "    logreg.fit(X_train,y_train)\n",
    "    y_pred=logreg.predict(X_test)\n",
    "    ts_score.append(metrics.accuracy_score(y_test, y_pred))\n",
    "\n",
    "J= ts_score.index(np.max(ts_score))\n",
    "\n",
    "X_train,X_test,y_train,y_test=train_test_split(X,y,test_size=0.20,random_state=J)\n",
    "logreg.fit(X_train,y_train)\n",
    "y_pred=logreg.predict(X_test)\n",
    "print(metrics.accuracy_score(y_test, y_pred))"
   ]
  },
  {
   "cell_type": "code",
   "execution_count": 217,
   "id": "ea43210b-ad35-4bbf-880e-0e152fafe163",
   "metadata": {},
   "outputs": [
    {
     "name": "stdout",
     "output_type": "stream",
     "text": [
      "531\n"
     ]
    }
   ],
   "source": [
    "print(J)"
   ]
  },
  {
   "cell_type": "code",
   "execution_count": 219,
   "id": "8c2f71da-cc95-43a3-ab1f-e45540b181f1",
   "metadata": {},
   "outputs": [
    {
     "name": "stdout",
     "output_type": "stream",
     "text": [
      "Accuracy: 0.7222222222222222\n",
      "Precision: [0.5        0.25       0.         0.         0.         0.\n",
      " 0.         0.         0.84269663 0.         0.         0.\n",
      " 0.         0.         0.25       0.         0.         0.\n",
      " 0.         0.         0.         0.         0.         0.\n",
      " 0.         0.        ]\n",
      "Recall: [1.         1.         0.         0.         0.         0.\n",
      " 0.         0.         0.96153846 0.         0.         0.\n",
      " 0.         0.         0.5        0.         0.         0.\n",
      " 0.         0.         0.         0.         0.         0.\n",
      " 0.         0.        ]\n"
     ]
    }
   ],
   "source": [
    "print(\"Accuracy:\",metrics.accuracy_score(y_test, y_pred))\n",
    "print(\"Precision:\",metrics.precision_score(y_test, y_pred,average=None))\n",
    "print(\"Recall:\",metrics.recall_score(y_test, y_pred,average=None))"
   ]
  },
  {
   "cell_type": "code",
   "execution_count": null,
   "id": "63e70611-83a6-4b85-865e-8d6b5a166e50",
   "metadata": {},
   "outputs": [],
   "source": []
  }
 ],
 "metadata": {
  "kernelspec": {
   "display_name": "Python 3",
   "language": "python",
   "name": "python3"
  },
  "language_info": {
   "codemirror_mode": {
    "name": "ipython",
    "version": 3
   },
   "file_extension": ".py",
   "mimetype": "text/x-python",
   "name": "python",
   "nbconvert_exporter": "python",
   "pygments_lexer": "ipython3",
   "version": "3.7.1"
  }
 },
 "nbformat": 4,
 "nbformat_minor": 5
}
