{
 "cells": [
  {
   "cell_type": "code",
   "execution_count": 1,
   "id": "96aff2d0-4122-43ab-a245-7506097e789d",
   "metadata": {},
   "outputs": [
    {
     "name": "stdout",
     "output_type": "stream",
     "text": [
      "Libraries Imported\n"
     ]
    }
   ],
   "source": [
    "from textblob import TextBlob\n",
    "import spacy\n",
    "from spacy.lang.en import English\n",
    "from spacy import displacy\n",
    "import en_core_web_sm\n",
    "import sys\n",
    "import tweepy\n",
    "import matplotlib.pyplot as plt\n",
    "import pandas as pd\n",
    "import numpy as np\n",
    "import os\n",
    "import nltk\n",
    "import pycountry\n",
    "import re\n",
    "import string\n",
    "from nltk.sentiment.vader import SentimentIntensityAnalyzer\n",
    "from langdetect import detect \n",
    "from nltk.stem import SnowballStemmer\n",
    "from nltk.sentiment.vader import SentimentIntensityAnalyzer\n",
    "from sklearn.feature_extraction.text import CountVectorizer\n",
    "import sklearn.metrics as metrics\n",
    "from sklearn.metrics import r2_score\n",
    "from sklearn.model_selection import train_test_split\n",
    "from sklearn.linear_model import LogisticRegression\n",
    "import warnings\n",
    "warnings.filterwarnings('ignore')\n",
    "print(\"Libraries Imported\")"
   ]
  },
  {
   "cell_type": "code",
   "execution_count": 69,
   "id": "a60ff66b-a8ec-45a1-b542-90bd3b7e7450",
   "metadata": {},
   "outputs": [
    {
     "name": "stdout",
     "output_type": "stream",
     "text": [
      "API Authentication\n"
     ]
    }
   ],
   "source": [
    "consumerKey = \n",
    "consumerSecret = \n",
    "accessToken = \n",
    "accessTokenSecret = \n",
    "auth = tweepy.OAuthHandler(consumerKey, consumerSecret)\n",
    "auth.set_access_token(accessToken, accessTokenSecret)\n",
    "api = tweepy.API(auth, wait_on_rate_limit=True)\n",
    "\n",
    "print(\"API Authentication\")"
   ]
  },
  {
   "cell_type": "code",
   "execution_count": 3,
   "id": "1eb1dde1-4815-4a3a-98a5-89c4b948267b",
   "metadata": {},
   "outputs": [],
   "source": [
    "nlp = English()"
   ]
  },
  {
   "cell_type": "code",
   "execution_count": 4,
   "id": "378b1c63-6545-490e-9aeb-59df275e91fe",
   "metadata": {},
   "outputs": [],
   "source": [
    "def tweet_cleaning(x): #remove link\n",
    "    remove_RT = lambda x: re.compile('\\#').sub('', re.compile('RT @').sub('@', x, count=1).strip())\n",
    "    x = remove_RT(x)\n",
    "    entity_prefixes = ['@','#']\n",
    "    for separator in  string.punctuation:\n",
    "        if separator not in entity_prefixes :\n",
    "            x = x.replace(separator,' ')\n",
    "    words = []\n",
    "    for word in x.split():\n",
    "        word = word.strip()\n",
    "        if word:\n",
    "            if word[0] not in entity_prefixes:\n",
    "                words.append(word)\n",
    "    return ' '.join(words)"
   ]
  },
  {
   "cell_type": "code",
   "execution_count": 5,
   "id": "5981b277-0ada-4c68-8941-38047b385873",
   "metadata": {},
   "outputs": [],
   "source": [
    "def tweet_sentiment_analysis(x):\n",
    "    the_tweet = TextBlob(x)\n",
    "    pol = the_tweet.sentiment.polarity\n",
    "    sub = the_tweet.sentiment.subjectivity\n",
    "    score = SentimentIntensityAnalyzer().polarity_scores(x)\n",
    "    neg = score['neg']\n",
    "    pos = score['pos']\n",
    "    neu = score['neu']\n",
    "    comp = score['compound']\n",
    "    sentiment = ''\n",
    "    if pos > neg :\n",
    "        sentiment = 'Positive'\n",
    "    elif pos < neg :\n",
    "        sentiment = 'Negative'\n",
    "    else :\n",
    "        sentiment = 'Neutral'\n",
    "    return int(pol*100), int(sub*100), score, int(neg*100),int(pos*100) , int(neu*100), int(comp*100),sentiment"
   ]
  },
  {
   "cell_type": "code",
   "execution_count": 6,
   "id": "07fa1b3b-24e7-4017-9ce2-2ad28dc71b9d",
   "metadata": {},
   "outputs": [],
   "source": [
    "def tweet_tokenizer(x) :\n",
    "    text = x\n",
    "    my_doc = nlp(text)\n",
    "    tokens = []\n",
    "    for token in my_doc :\n",
    "        tokens.append(token.text)\n",
    "    return tokens"
   ]
  },
  {
   "cell_type": "code",
   "execution_count": 7,
   "id": "f145ad11-406a-4280-a6af-3e95d9c45ed8",
   "metadata": {},
   "outputs": [],
   "source": [
    "def percentage(part,whole):\n",
    "    return 100 * float(part)/float(whole)"
   ]
  },
  {
   "cell_type": "code",
   "execution_count": 56,
   "id": "7aa7cf25-6925-4e08-bc17-54cd4c54e293",
   "metadata": {},
   "outputs": [],
   "source": [
    "def get_tweets(keyword, noOfTweet) :\n",
    "    tweets = tweepy.Cursor(api.search,q=keyword, lang=\"en\").items(noOfTweet)\n",
    "    tweet_list = []\n",
    "    cleaned_tweets_list = []\n",
    "    tweet_size = []\n",
    "    for tweet in tweets :\n",
    "        tweet_list.append(tweet.text)\n",
    "        cleaned_tweet = tweet_cleaning(tweet.text)\n",
    "        tweet_size.append(len(cleaned_tweet))\n",
    "        cleaned_tweets_list.append(cleaned_tweet)\n",
    "    return tweet_list,cleaned_tweets_list, tweet_size"
   ]
  },
  {
   "cell_type": "code",
   "execution_count": 67,
   "id": "f57d5d0c-3ce1-498c-ac49-4030a571f153",
   "metadata": {},
   "outputs": [],
   "source": [
    "def get_tweets_2(keyword, noOfTweet) :\n",
    "    tweets = tweepy.Cursor(api.search,q=keyword, lang=\"en\").pages(noOfTweet/200)\n",
    "    tweet_list = []\n",
    "    cleaned_tweets_list = []\n",
    "    tweet_size = []\n",
    "    for tweet in tweets :\n",
    "        tweet_list.append(tweet.text)\n",
    "        cleaned_tweet = tweet_cleaning(tweet.text)\n",
    "        tweet_size.append(len(cleaned_tweet))\n",
    "        cleaned_tweets_list.append(cleaned_tweet)\n",
    "    return tweet_list,cleaned_tweets_list, tweet_size"
   ]
  },
  {
   "cell_type": "code",
   "execution_count": 9,
   "id": "20c21d18-b705-427c-ab99-28158dff3573",
   "metadata": {},
   "outputs": [],
   "source": [
    "def get_sentiment_percentage(cleaned_tweets_list, positive_tweet_list, negative_tweet_list, neutral_tweet_list) :\n",
    "    positive_percentage = percentage(len(positive_tweet_list), len(cleaned_tweets_list))\n",
    "    negative_percentage = percentage(len(negative_tweet_list), len(cleaned_tweets_list))\n",
    "    neutral_percentage = percentage(len(neutral_tweet_list), len(cleaned_tweets_list))\n",
    "    return positive_percentage, negative_percentage, neutral_percentage\n"
   ]
  },
  {
   "cell_type": "code",
   "execution_count": 10,
   "id": "1a2ba19b-4967-45e4-adc2-0301823a6856",
   "metadata": {},
   "outputs": [],
   "source": [
    "def final_data_generation(cleaned_tweets_list, tweet_size) :\n",
    "    counter = 0 \n",
    "    polarity_list = []\n",
    "    subjectivity_list = []\n",
    "    positive_tweet_list = []\n",
    "    negative_tweet_list = []\n",
    "    neutral_tweet_list = []\n",
    "    score_tweet_list = []\n",
    "    positivty = []\n",
    "    negativity = []\n",
    "    neutralness = []\n",
    "    compoundness = []\n",
    "    df_tweetdata = pd.DataFrame(columns = ['Tweet','WordCount','Polarity','Subjectivity','Sentiment','Positivity','Negativity','Neutralness','Compoundness'])\n",
    "    \n",
    "    for x in cleaned_tweets_list :\n",
    "        tweet_pol, tweet_sub, score, neg, pos, neu, comp, sentiment = tweet_sentiment_analysis(x)\n",
    "        \n",
    "        positivty.append(pos)\n",
    "        negativity.append(neg)\n",
    "        neutralness.append(neu)\n",
    "        compoundness.append(comp)\n",
    "        polarity_list.append(tweet_pol)\n",
    "        subjectivity_list.append(tweet_sub)\n",
    "        score_tweet_list.append(sentiment)\n",
    "        \n",
    "        if pos > neg :\n",
    "            positive_tweet_list.append(x)        \n",
    "        elif neg > pos :\n",
    "            negative_tweet_list.append(x)\n",
    "        elif pos == neg :\n",
    "            neutral_tweet_list.append(x)\n",
    "    \n",
    "    df_tweetdata['Tweet'] = cleaned_tweets_list\n",
    "    df_tweetdata['WordCount'] = tweet_size\n",
    "    df_tweetdata['Polarity'] = polarity_list\n",
    "    df_tweetdata['Subjectivity'] = subjectivity_list\n",
    "    df_tweetdata['Sentiment'] = score_tweet_list\n",
    "    df_tweetdata['Positivity'] = positivty\n",
    "    df_tweetdata['Negativity'] = negativity\n",
    "    df_tweetdata['Neutralness'] = neutralness\n",
    "    df_tweetdata['Compoundness'] = compoundness\n",
    "    \n",
    "    positive_percentage, negative_percentage, neutral_percentage = get_sentiment_percentage(cleaned_tweets_list, positive_tweet_list, negative_tweet_list, neutral_tweet_list)\n",
    "    \n",
    "    return polarity_list,subjectivity_list,positive_percentage,negative_percentage,neutral_percentage,score_tweet_list,positivty,negativity,neutralness,compoundness,df_tweetdata"
   ]
  },
  {
   "cell_type": "code",
   "execution_count": 57,
   "id": "0837f040-2d3f-4a15-a1fe-fa5958313bda",
   "metadata": {},
   "outputs": [
    {
     "name": "stdin",
     "output_type": "stream",
     "text": [
      "Please enter keyword or hashtag to search:  pixel6\n",
      "Please enter how many tweets to analyze:  1000\n"
     ]
    },
    {
     "name": "stdout",
     "output_type": "stream",
     "text": [
      "1476\n"
     ]
    }
   ],
   "source": [
    "keyword = input(\"Please enter keyword or hashtag to search: \")\n",
    "noOfTweet = int(input (\"Please enter how many tweets to analyze: \"))\n",
    "total_tweets = []\n",
    "total_cleaned_tweets = []\n",
    "total_tweet_size = []\n",
    "while len(total_cleaned_tweets) < noOfTweet :\n",
    "    tweet_list, cleaned_tweets_list, tweet_size = get_tweets(keyword, noOfTweet)\n",
    "    total_cleaned_tweets = total_cleaned_tweets + cleaned_tweets_list\n",
    "    total_tweets = total_tweets + tweet_list\n",
    "    total_tweet_size = total_tweet_size + tweet_size\n",
    "\n",
    "polarity_list,subjectivity_list,positive_percentage, negative_percentage, neutral_percentage,score_tweet_list,positivty,negativity,neutralness,compoundness,df_tweetdata = final_data_generation(total_cleaned_tweets, total_tweet_size)\n",
    "print(len(total_cleaned_tweets))"
   ]
  },
  {
   "cell_type": "code",
   "execution_count": 68,
   "id": "8399b661-8227-4987-83e5-0126f5013197",
   "metadata": {},
   "outputs": [
    {
     "name": "stdin",
     "output_type": "stream",
     "text": [
      "Please enter keyword or hashtag to search:  pixel6\n",
      "Please enter how many tweets to analyze:  1000\n"
     ]
    },
    {
     "ename": "AttributeError",
     "evalue": "'SearchResults' object has no attribute 'text'",
     "output_type": "error",
     "traceback": [
      "\u001b[1;31m---------------------------------------------------------------------------\u001b[0m",
      "\u001b[1;31mAttributeError\u001b[0m                            Traceback (most recent call last)",
      "\u001b[1;32m<ipython-input-68-8f3293ccff98>\u001b[0m in \u001b[0;36m<module>\u001b[1;34m\u001b[0m\n\u001b[0;32m      1\u001b[0m \u001b[0mkeyword\u001b[0m \u001b[1;33m=\u001b[0m \u001b[0minput\u001b[0m\u001b[1;33m(\u001b[0m\u001b[1;34m\"Please enter keyword or hashtag to search: \"\u001b[0m\u001b[1;33m)\u001b[0m\u001b[1;33m\u001b[0m\u001b[1;33m\u001b[0m\u001b[0m\n\u001b[0;32m      2\u001b[0m \u001b[0mnoOfTweet\u001b[0m \u001b[1;33m=\u001b[0m \u001b[0mint\u001b[0m\u001b[1;33m(\u001b[0m\u001b[0minput\u001b[0m \u001b[1;33m(\u001b[0m\u001b[1;34m\"Please enter how many tweets to analyze: \"\u001b[0m\u001b[1;33m)\u001b[0m\u001b[1;33m)\u001b[0m\u001b[1;33m\u001b[0m\u001b[1;33m\u001b[0m\u001b[0m\n\u001b[1;32m----> 3\u001b[1;33m \u001b[0mtweet_list\u001b[0m\u001b[1;33m,\u001b[0m \u001b[0mcleaned_tweets_list\u001b[0m\u001b[1;33m,\u001b[0m \u001b[0mtweet_size\u001b[0m \u001b[1;33m=\u001b[0m \u001b[0mget_tweets_2\u001b[0m\u001b[1;33m(\u001b[0m\u001b[0mkeyword\u001b[0m\u001b[1;33m,\u001b[0m \u001b[0mnoOfTweet\u001b[0m\u001b[1;33m)\u001b[0m\u001b[1;33m\u001b[0m\u001b[1;33m\u001b[0m\u001b[0m\n\u001b[0m\u001b[0;32m      4\u001b[0m \u001b[0mprint\u001b[0m\u001b[1;33m(\u001b[0m\u001b[0mlen\u001b[0m\u001b[1;33m(\u001b[0m\u001b[0mcleaned_tweets_list\u001b[0m\u001b[1;33m)\u001b[0m\u001b[1;33m)\u001b[0m\u001b[1;33m\u001b[0m\u001b[1;33m\u001b[0m\u001b[0m\n",
      "\u001b[1;32m<ipython-input-67-a7e66825d20d>\u001b[0m in \u001b[0;36mget_tweets_2\u001b[1;34m(keyword, noOfTweet)\u001b[0m\n\u001b[0;32m      5\u001b[0m     \u001b[0mtweet_size\u001b[0m \u001b[1;33m=\u001b[0m \u001b[1;33m[\u001b[0m\u001b[1;33m]\u001b[0m\u001b[1;33m\u001b[0m\u001b[1;33m\u001b[0m\u001b[0m\n\u001b[0;32m      6\u001b[0m     \u001b[1;32mfor\u001b[0m \u001b[0mtweet\u001b[0m \u001b[1;32min\u001b[0m \u001b[0mtweets\u001b[0m \u001b[1;33m:\u001b[0m\u001b[1;33m\u001b[0m\u001b[1;33m\u001b[0m\u001b[0m\n\u001b[1;32m----> 7\u001b[1;33m         \u001b[0mtweet_list\u001b[0m\u001b[1;33m.\u001b[0m\u001b[0mappend\u001b[0m\u001b[1;33m(\u001b[0m\u001b[0mtweet\u001b[0m\u001b[1;33m.\u001b[0m\u001b[0mtext\u001b[0m\u001b[1;33m)\u001b[0m\u001b[1;33m\u001b[0m\u001b[1;33m\u001b[0m\u001b[0m\n\u001b[0m\u001b[0;32m      8\u001b[0m         \u001b[0mcleaned_tweet\u001b[0m \u001b[1;33m=\u001b[0m \u001b[0mtweet_cleaning\u001b[0m\u001b[1;33m(\u001b[0m\u001b[0mtweet\u001b[0m\u001b[1;33m.\u001b[0m\u001b[0mtext\u001b[0m\u001b[1;33m)\u001b[0m\u001b[1;33m\u001b[0m\u001b[1;33m\u001b[0m\u001b[0m\n\u001b[0;32m      9\u001b[0m         \u001b[0mtweet_size\u001b[0m\u001b[1;33m.\u001b[0m\u001b[0mappend\u001b[0m\u001b[1;33m(\u001b[0m\u001b[0mlen\u001b[0m\u001b[1;33m(\u001b[0m\u001b[0mcleaned_tweet\u001b[0m\u001b[1;33m)\u001b[0m\u001b[1;33m)\u001b[0m\u001b[1;33m\u001b[0m\u001b[1;33m\u001b[0m\u001b[0m\n",
      "\u001b[1;31mAttributeError\u001b[0m: 'SearchResults' object has no attribute 'text'"
     ]
    }
   ],
   "source": [
    "keyword = input(\"Please enter keyword or hashtag to search: \")\n",
    "noOfTweet = int(input (\"Please enter how many tweets to analyze: \"))\n",
    "tweet_list, cleaned_tweets_list, tweet_size = get_tweets_2(keyword, noOfTweet)\n",
    "print(len(cleaned_tweets_list))"
   ]
  },
  {
   "cell_type": "code",
   "execution_count": 58,
   "id": "c447a809-4baf-4b1c-a55c-d8104aa337ca",
   "metadata": {},
   "outputs": [
    {
     "name": "stdout",
     "output_type": "stream",
     "text": [
      "Percentage of Positive:\t 41.05691056910569\n",
      "Percentage of Negative:\t 13.414634146341463\n",
      "Percentage of Neutral:\t 45.52845528455285\n"
     ]
    }
   ],
   "source": [
    "print(\"Percentage of Positive:\\t\",positive_percentage)\n",
    "print(\"Percentage of Negative:\\t\",negative_percentage)\n",
    "print(\"Percentage of Neutral:\\t\",neutral_percentage)"
   ]
  },
  {
   "cell_type": "code",
   "execution_count": 25,
   "id": "573db665-0d5e-46b6-a7ee-b202b0bead0a",
   "metadata": {
    "tags": []
   },
   "outputs": [],
   "source": [
    "#The compound score is the sum of positive, negative & neutral scores which is then normalized \n",
    "#between -1(most extreme negative) and +1 (most extreme positive). \n",
    "#The more Compound score closer to +1, the higher the positivity of the text."
   ]
  },
  {
   "cell_type": "code",
   "execution_count": 59,
   "id": "4a9414cb-6b59-44a2-a030-f0a4ee5b174e",
   "metadata": {
    "tags": []
   },
   "outputs": [
    {
     "data": {
      "text/html": [
       "<div>\n",
       "<style scoped>\n",
       "    .dataframe tbody tr th:only-of-type {\n",
       "        vertical-align: middle;\n",
       "    }\n",
       "\n",
       "    .dataframe tbody tr th {\n",
       "        vertical-align: top;\n",
       "    }\n",
       "\n",
       "    .dataframe thead th {\n",
       "        text-align: right;\n",
       "    }\n",
       "</style>\n",
       "<table border=\"1\" class=\"dataframe\">\n",
       "  <thead>\n",
       "    <tr style=\"text-align: right;\">\n",
       "      <th></th>\n",
       "      <th>Tweet</th>\n",
       "      <th>WordCount</th>\n",
       "      <th>Polarity</th>\n",
       "      <th>Subjectivity</th>\n",
       "      <th>Sentiment</th>\n",
       "      <th>Positivity</th>\n",
       "      <th>Negativity</th>\n",
       "      <th>Neutralness</th>\n",
       "      <th>Compoundness</th>\n",
       "    </tr>\n",
       "  </thead>\n",
       "  <tbody>\n",
       "    <tr>\n",
       "      <th>0</th>\n",
       "      <td>🤎new pixelart🤎 draw drawing drawings paint pai...</td>\n",
       "      <td>106</td>\n",
       "      <td>0</td>\n",
       "      <td>0</td>\n",
       "      <td>Neutral</td>\n",
       "      <td>0</td>\n",
       "      <td>0</td>\n",
       "      <td>100</td>\n",
       "      <td>0</td>\n",
       "    </tr>\n",
       "    <tr>\n",
       "      <th>1</th>\n",
       "      <td>🤎new pixelart🤎 draw drawing drawings paint pai...</td>\n",
       "      <td>117</td>\n",
       "      <td>0</td>\n",
       "      <td>0</td>\n",
       "      <td>Neutral</td>\n",
       "      <td>0</td>\n",
       "      <td>0</td>\n",
       "      <td>100</td>\n",
       "      <td>0</td>\n",
       "    </tr>\n",
       "    <tr>\n",
       "      <th>2</th>\n",
       "      <td>Just me or is crushing it on the new phone fro...</td>\n",
       "      <td>121</td>\n",
       "      <td>7</td>\n",
       "      <td>68</td>\n",
       "      <td>Negative</td>\n",
       "      <td>0</td>\n",
       "      <td>9</td>\n",
       "      <td>90</td>\n",
       "      <td>-36</td>\n",
       "    </tr>\n",
       "    <tr>\n",
       "      <th>3</th>\n",
       "      <td>Google Pixel 6 will be without charger 😱 Read ...</td>\n",
       "      <td>127</td>\n",
       "      <td>35</td>\n",
       "      <td>55</td>\n",
       "      <td>Neutral</td>\n",
       "      <td>0</td>\n",
       "      <td>0</td>\n",
       "      <td>100</td>\n",
       "      <td>0</td>\n",
       "    </tr>\n",
       "    <tr>\n",
       "      <th>4</th>\n",
       "      <td>Same in India but you are luck that you will g...</td>\n",
       "      <td>59</td>\n",
       "      <td>0</td>\n",
       "      <td>12</td>\n",
       "      <td>Positive</td>\n",
       "      <td>25</td>\n",
       "      <td>0</td>\n",
       "      <td>75</td>\n",
       "      <td>61</td>\n",
       "    </tr>\n",
       "    <tr>\n",
       "      <th>5</th>\n",
       "      <td>nerdy Google Pixel 6 rumors Release date in ho...</td>\n",
       "      <td>120</td>\n",
       "      <td>50</td>\n",
       "      <td>50</td>\n",
       "      <td>Negative</td>\n",
       "      <td>0</td>\n",
       "      <td>5</td>\n",
       "      <td>94</td>\n",
       "      <td>-5</td>\n",
       "    </tr>\n",
       "    <tr>\n",
       "      <th>6</th>\n",
       "      <td>Google Pixel 6 rumors Release date in house ch...</td>\n",
       "      <td>130</td>\n",
       "      <td>50</td>\n",
       "      <td>50</td>\n",
       "      <td>Neutral</td>\n",
       "      <td>0</td>\n",
       "      <td>0</td>\n",
       "      <td>100</td>\n",
       "      <td>0</td>\n",
       "    </tr>\n",
       "    <tr>\n",
       "      <th>7</th>\n",
       "      <td>Google will not include a charger with the Pix...</td>\n",
       "      <td>99</td>\n",
       "      <td>0</td>\n",
       "      <td>10</td>\n",
       "      <td>Neutral</td>\n",
       "      <td>0</td>\n",
       "      <td>0</td>\n",
       "      <td>100</td>\n",
       "      <td>0</td>\n",
       "    </tr>\n",
       "    <tr>\n",
       "      <th>8</th>\n",
       "      <td>Master18 Google Pixel 6 and 6 Pro may support ...</td>\n",
       "      <td>125</td>\n",
       "      <td>10</td>\n",
       "      <td>80</td>\n",
       "      <td>Positive</td>\n",
       "      <td>13</td>\n",
       "      <td>9</td>\n",
       "      <td>77</td>\n",
       "      <td>20</td>\n",
       "    </tr>\n",
       "    <tr>\n",
       "      <th>9</th>\n",
       "      <td>No charger in Pixel 6 😮😭 Pixel6 GooglePixel6</td>\n",
       "      <td>44</td>\n",
       "      <td>0</td>\n",
       "      <td>0</td>\n",
       "      <td>Negative</td>\n",
       "      <td>0</td>\n",
       "      <td>26</td>\n",
       "      <td>73</td>\n",
       "      <td>-29</td>\n",
       "    </tr>\n",
       "    <tr>\n",
       "      <th>10</th>\n",
       "      <td>Google Pixel 6 and 6 Pro may support 33W fast ...</td>\n",
       "      <td>115</td>\n",
       "      <td>10</td>\n",
       "      <td>80</td>\n",
       "      <td>Positive</td>\n",
       "      <td>13</td>\n",
       "      <td>9</td>\n",
       "      <td>76</td>\n",
       "      <td>20</td>\n",
       "    </tr>\n",
       "    <tr>\n",
       "      <th>11</th>\n",
       "      <td>Google Pixel 6 and 6 Pro may support 33W fast ...</td>\n",
       "      <td>133</td>\n",
       "      <td>10</td>\n",
       "      <td>80</td>\n",
       "      <td>Positive</td>\n",
       "      <td>12</td>\n",
       "      <td>8</td>\n",
       "      <td>78</td>\n",
       "      <td>20</td>\n",
       "    </tr>\n",
       "    <tr>\n",
       "      <th>12</th>\n",
       "      <td>Google Pixel 6 and 6 Pro may support 33W fast ...</td>\n",
       "      <td>129</td>\n",
       "      <td>10</td>\n",
       "      <td>80</td>\n",
       "      <td>Positive</td>\n",
       "      <td>12</td>\n",
       "      <td>8</td>\n",
       "      <td>78</td>\n",
       "      <td>20</td>\n",
       "    </tr>\n",
       "    <tr>\n",
       "      <th>13</th>\n",
       "      <td>Had so LSD Edits 🤣 originally taken on pixel4 ...</td>\n",
       "      <td>122</td>\n",
       "      <td>-31</td>\n",
       "      <td>87</td>\n",
       "      <td>Negative</td>\n",
       "      <td>0</td>\n",
       "      <td>11</td>\n",
       "      <td>88</td>\n",
       "      <td>-40</td>\n",
       "    </tr>\n",
       "    <tr>\n",
       "      <th>14</th>\n",
       "      <td>Possible foldable Pixel coming and faster char...</td>\n",
       "      <td>96</td>\n",
       "      <td>0</td>\n",
       "      <td>100</td>\n",
       "      <td>Neutral</td>\n",
       "      <td>0</td>\n",
       "      <td>0</td>\n",
       "      <td>100</td>\n",
       "      <td>0</td>\n",
       "    </tr>\n",
       "    <tr>\n",
       "      <th>15</th>\n",
       "      <td>No charger in Pixel 6 😮😭 Pixel6 GooglePixel6</td>\n",
       "      <td>44</td>\n",
       "      <td>0</td>\n",
       "      <td>0</td>\n",
       "      <td>Negative</td>\n",
       "      <td>0</td>\n",
       "      <td>26</td>\n",
       "      <td>73</td>\n",
       "      <td>-29</td>\n",
       "    </tr>\n",
       "    <tr>\n",
       "      <th>16</th>\n",
       "      <td>Google Pixel6 series could feature a 33W charg...</td>\n",
       "      <td>111</td>\n",
       "      <td>40</td>\n",
       "      <td>40</td>\n",
       "      <td>Neutral</td>\n",
       "      <td>0</td>\n",
       "      <td>0</td>\n",
       "      <td>100</td>\n",
       "      <td>0</td>\n",
       "    </tr>\n",
       "    <tr>\n",
       "      <th>17</th>\n",
       "      <td>Google Pixel6 series could feature a 33W charg...</td>\n",
       "      <td>111</td>\n",
       "      <td>40</td>\n",
       "      <td>40</td>\n",
       "      <td>Neutral</td>\n",
       "      <td>0</td>\n",
       "      <td>0</td>\n",
       "      <td>100</td>\n",
       "      <td>0</td>\n",
       "    </tr>\n",
       "    <tr>\n",
       "      <th>18</th>\n",
       "      <td>Google Pixel6 series could feature a 33W charg...</td>\n",
       "      <td>111</td>\n",
       "      <td>40</td>\n",
       "      <td>40</td>\n",
       "      <td>Neutral</td>\n",
       "      <td>0</td>\n",
       "      <td>0</td>\n",
       "      <td>100</td>\n",
       "      <td>0</td>\n",
       "    </tr>\n",
       "    <tr>\n",
       "      <th>19</th>\n",
       "      <td>The Google Pixel 6 will be made in China after...</td>\n",
       "      <td>94</td>\n",
       "      <td>0</td>\n",
       "      <td>0</td>\n",
       "      <td>Neutral</td>\n",
       "      <td>0</td>\n",
       "      <td>0</td>\n",
       "      <td>100</td>\n",
       "      <td>0</td>\n",
       "    </tr>\n",
       "  </tbody>\n",
       "</table>\n",
       "</div>"
      ],
      "text/plain": [
       "                                                Tweet  WordCount  Polarity  \\\n",
       "0   🤎new pixelart🤎 draw drawing drawings paint pai...        106         0   \n",
       "1   🤎new pixelart🤎 draw drawing drawings paint pai...        117         0   \n",
       "2   Just me or is crushing it on the new phone fro...        121         7   \n",
       "3   Google Pixel 6 will be without charger 😱 Read ...        127        35   \n",
       "4   Same in India but you are luck that you will g...         59         0   \n",
       "5   nerdy Google Pixel 6 rumors Release date in ho...        120        50   \n",
       "6   Google Pixel 6 rumors Release date in house ch...        130        50   \n",
       "7   Google will not include a charger with the Pix...         99         0   \n",
       "8   Master18 Google Pixel 6 and 6 Pro may support ...        125        10   \n",
       "9        No charger in Pixel 6 😮😭 Pixel6 GooglePixel6         44         0   \n",
       "10  Google Pixel 6 and 6 Pro may support 33W fast ...        115        10   \n",
       "11  Google Pixel 6 and 6 Pro may support 33W fast ...        133        10   \n",
       "12  Google Pixel 6 and 6 Pro may support 33W fast ...        129        10   \n",
       "13  Had so LSD Edits 🤣 originally taken on pixel4 ...        122       -31   \n",
       "14  Possible foldable Pixel coming and faster char...         96         0   \n",
       "15       No charger in Pixel 6 😮😭 Pixel6 GooglePixel6         44         0   \n",
       "16  Google Pixel6 series could feature a 33W charg...        111        40   \n",
       "17  Google Pixel6 series could feature a 33W charg...        111        40   \n",
       "18  Google Pixel6 series could feature a 33W charg...        111        40   \n",
       "19  The Google Pixel 6 will be made in China after...         94         0   \n",
       "\n",
       "    Subjectivity Sentiment  Positivity  Negativity  Neutralness  Compoundness  \n",
       "0              0   Neutral           0           0          100             0  \n",
       "1              0   Neutral           0           0          100             0  \n",
       "2             68  Negative           0           9           90           -36  \n",
       "3             55   Neutral           0           0          100             0  \n",
       "4             12  Positive          25           0           75            61  \n",
       "5             50  Negative           0           5           94            -5  \n",
       "6             50   Neutral           0           0          100             0  \n",
       "7             10   Neutral           0           0          100             0  \n",
       "8             80  Positive          13           9           77            20  \n",
       "9              0  Negative           0          26           73           -29  \n",
       "10            80  Positive          13           9           76            20  \n",
       "11            80  Positive          12           8           78            20  \n",
       "12            80  Positive          12           8           78            20  \n",
       "13            87  Negative           0          11           88           -40  \n",
       "14           100   Neutral           0           0          100             0  \n",
       "15             0  Negative           0          26           73           -29  \n",
       "16            40   Neutral           0           0          100             0  \n",
       "17            40   Neutral           0           0          100             0  \n",
       "18            40   Neutral           0           0          100             0  \n",
       "19             0   Neutral           0           0          100             0  "
      ]
     },
     "execution_count": 59,
     "metadata": {},
     "output_type": "execute_result"
    }
   ],
   "source": [
    "df_tweetdata.head(20)"
   ]
  },
  {
   "cell_type": "code",
   "execution_count": 63,
   "id": "c56abc48-5690-4ad3-9b73-3bd0e8dc482f",
   "metadata": {},
   "outputs": [
    {
     "data": {
      "text/plain": [
       "(371, 10)"
      ]
     },
     "execution_count": 63,
     "metadata": {},
     "output_type": "execute_result"
    }
   ],
   "source": [
    "df_tweetdata.shape"
   ]
  },
  {
   "cell_type": "code",
   "execution_count": 64,
   "id": "eb20647f-deca-4ebb-9186-d60ade102a0d",
   "metadata": {
    "tags": []
   },
   "outputs": [],
   "source": [
    "df_tweetdata.drop_duplicates(inplace=True)\n",
    "df_tweetdata.reset_index(inplace=True)"
   ]
  },
  {
   "cell_type": "code",
   "execution_count": 65,
   "id": "10cf9581-b920-4b9e-ba1e-02233c3bcc48",
   "metadata": {},
   "outputs": [
    {
     "data": {
      "text/plain": [
       "(371, 11)"
      ]
     },
     "execution_count": 65,
     "metadata": {},
     "output_type": "execute_result"
    }
   ],
   "source": [
    "df_tweetdata.shape"
   ]
  },
  {
   "cell_type": "code",
   "execution_count": 30,
   "id": "3ba6b102-670c-478a-bf8b-f1370a173e8c",
   "metadata": {},
   "outputs": [],
   "source": [
    "#df_tweetdata.to_csv('Tweet_Hype_Data_2.csv')"
   ]
  },
  {
   "cell_type": "code",
   "execution_count": 66,
   "id": "ea88a758-6042-4d7e-b58e-3baa5fd899fd",
   "metadata": {},
   "outputs": [],
   "source": [
    "token_list = []\n",
    "index_list = []\n",
    "counter = 0\n",
    "for x in cleaned_tweets_list:\n",
    "    tokens = tweet_tokenizer(x)\n",
    "    token_list.append(tokens)\n",
    "    counter += len(tokens)\n",
    "    index_list.append(counter)"
   ]
  },
  {
   "cell_type": "code",
   "execution_count": 32,
   "id": "e5c4c67c-b90f-4ba4-918a-97fcaa549c18",
   "metadata": {
    "tags": []
   },
   "outputs": [
    {
     "name": "stdout",
     "output_type": "stream",
     "text": [
      "cleaned_tweets_list 492\n",
      "token_list 492\n"
     ]
    }
   ],
   "source": [
    "#printed out token_list and index_list\n",
    "print(\"cleaned_tweets_list\",len(cleaned_tweets_list))\n",
    "print(\"token_list\",len(token_list))"
   ]
  },
  {
   "cell_type": "code",
   "execution_count": 33,
   "id": "a8bb9b7c-2530-435f-811a-9304db9ae4b1",
   "metadata": {
    "tags": []
   },
   "outputs": [],
   "source": [
    "tweet_tokens = []\n",
    "tweet_POS = []\n",
    "for x in cleaned_tweets_list :\n",
    "    tokens_POS = TextBlob(x)\n",
    "    res = [[ i for i, j in tokens_POS.tags ],[ j for i, j in tokens_POS.tags ]]"
   ]
  },
  {
   "cell_type": "code",
   "execution_count": 34,
   "id": "a9f4fb3e-e2fd-4ea3-843b-0ef050b2f2ba",
   "metadata": {},
   "outputs": [],
   "source": [
    "from sklearn.preprocessing import LabelEncoder\n",
    "enc = LabelEncoder()\n",
    "df_tweetdata.Sentiment = enc.fit_transform(df_tweetdata.Sentiment)\n",
    "# df_tweetdata.Polarity = enc.fit_transform(df_tweetdata.Polarity)\n",
    "# df_tweetdata.Subjectivity = enc.fit_transform(df_tweetdata.Subjectivity)\n",
    "# df_tweetdata.Positivity = enc.fit_transform(df_tweetdata.Positivity)\n",
    "# df_tweetdata.Negativity = enc.fit_transform(df_tweetdata.Negativity)\n",
    "# df_tweetdata.Neutralness = enc.fit_transform(df_tweetdata.Neutralness)\n",
    "# df_tweetdata.Compoundness = enc.fit_transform(df_tweetdata.Compoundness)"
   ]
  },
  {
   "cell_type": "code",
   "execution_count": 35,
   "id": "e819772c-b009-4f82-a8fb-72d330e70577",
   "metadata": {},
   "outputs": [
    {
     "data": {
      "text/html": [
       "<div>\n",
       "<style scoped>\n",
       "    .dataframe tbody tr th:only-of-type {\n",
       "        vertical-align: middle;\n",
       "    }\n",
       "\n",
       "    .dataframe tbody tr th {\n",
       "        vertical-align: top;\n",
       "    }\n",
       "\n",
       "    .dataframe thead th {\n",
       "        text-align: right;\n",
       "    }\n",
       "</style>\n",
       "<table border=\"1\" class=\"dataframe\">\n",
       "  <thead>\n",
       "    <tr style=\"text-align: right;\">\n",
       "      <th></th>\n",
       "      <th>index</th>\n",
       "      <th>Tweet</th>\n",
       "      <th>WordCount</th>\n",
       "      <th>Polarity</th>\n",
       "      <th>Subjectivity</th>\n",
       "      <th>Sentiment</th>\n",
       "      <th>Positivity</th>\n",
       "      <th>Negativity</th>\n",
       "      <th>Neutralness</th>\n",
       "      <th>Compoundness</th>\n",
       "    </tr>\n",
       "  </thead>\n",
       "  <tbody>\n",
       "    <tr>\n",
       "      <th>0</th>\n",
       "      <td>0</td>\n",
       "      <td>🤎new pixelart🤎 draw drawing drawings paint pai...</td>\n",
       "      <td>106</td>\n",
       "      <td>0</td>\n",
       "      <td>0</td>\n",
       "      <td>1</td>\n",
       "      <td>0</td>\n",
       "      <td>0</td>\n",
       "      <td>100</td>\n",
       "      <td>0</td>\n",
       "    </tr>\n",
       "    <tr>\n",
       "      <th>1</th>\n",
       "      <td>1</td>\n",
       "      <td>🤎new pixelart🤎 draw drawing drawings paint pai...</td>\n",
       "      <td>117</td>\n",
       "      <td>0</td>\n",
       "      <td>0</td>\n",
       "      <td>1</td>\n",
       "      <td>0</td>\n",
       "      <td>0</td>\n",
       "      <td>100</td>\n",
       "      <td>0</td>\n",
       "    </tr>\n",
       "    <tr>\n",
       "      <th>2</th>\n",
       "      <td>2</td>\n",
       "      <td>Just me or is crushing it on the new phone fro...</td>\n",
       "      <td>121</td>\n",
       "      <td>7</td>\n",
       "      <td>68</td>\n",
       "      <td>0</td>\n",
       "      <td>0</td>\n",
       "      <td>9</td>\n",
       "      <td>90</td>\n",
       "      <td>-36</td>\n",
       "    </tr>\n",
       "    <tr>\n",
       "      <th>3</th>\n",
       "      <td>3</td>\n",
       "      <td>Google Pixel 6 will be without charger 😱 Read ...</td>\n",
       "      <td>127</td>\n",
       "      <td>35</td>\n",
       "      <td>55</td>\n",
       "      <td>1</td>\n",
       "      <td>0</td>\n",
       "      <td>0</td>\n",
       "      <td>100</td>\n",
       "      <td>0</td>\n",
       "    </tr>\n",
       "    <tr>\n",
       "      <th>4</th>\n",
       "      <td>4</td>\n",
       "      <td>Same in India but you are luck that you will g...</td>\n",
       "      <td>59</td>\n",
       "      <td>0</td>\n",
       "      <td>12</td>\n",
       "      <td>2</td>\n",
       "      <td>25</td>\n",
       "      <td>0</td>\n",
       "      <td>75</td>\n",
       "      <td>61</td>\n",
       "    </tr>\n",
       "    <tr>\n",
       "      <th>5</th>\n",
       "      <td>5</td>\n",
       "      <td>nerdy Google Pixel 6 rumors Release date in ho...</td>\n",
       "      <td>120</td>\n",
       "      <td>50</td>\n",
       "      <td>50</td>\n",
       "      <td>0</td>\n",
       "      <td>0</td>\n",
       "      <td>5</td>\n",
       "      <td>94</td>\n",
       "      <td>-5</td>\n",
       "    </tr>\n",
       "    <tr>\n",
       "      <th>6</th>\n",
       "      <td>6</td>\n",
       "      <td>Google Pixel 6 rumors Release date in house ch...</td>\n",
       "      <td>130</td>\n",
       "      <td>50</td>\n",
       "      <td>50</td>\n",
       "      <td>1</td>\n",
       "      <td>0</td>\n",
       "      <td>0</td>\n",
       "      <td>100</td>\n",
       "      <td>0</td>\n",
       "    </tr>\n",
       "    <tr>\n",
       "      <th>7</th>\n",
       "      <td>7</td>\n",
       "      <td>Google will not include a charger with the Pix...</td>\n",
       "      <td>99</td>\n",
       "      <td>0</td>\n",
       "      <td>10</td>\n",
       "      <td>1</td>\n",
       "      <td>0</td>\n",
       "      <td>0</td>\n",
       "      <td>100</td>\n",
       "      <td>0</td>\n",
       "    </tr>\n",
       "    <tr>\n",
       "      <th>8</th>\n",
       "      <td>8</td>\n",
       "      <td>Master18 Google Pixel 6 and 6 Pro may support ...</td>\n",
       "      <td>125</td>\n",
       "      <td>10</td>\n",
       "      <td>80</td>\n",
       "      <td>2</td>\n",
       "      <td>13</td>\n",
       "      <td>9</td>\n",
       "      <td>77</td>\n",
       "      <td>20</td>\n",
       "    </tr>\n",
       "    <tr>\n",
       "      <th>9</th>\n",
       "      <td>9</td>\n",
       "      <td>No charger in Pixel 6 😮😭 Pixel6 GooglePixel6</td>\n",
       "      <td>44</td>\n",
       "      <td>0</td>\n",
       "      <td>0</td>\n",
       "      <td>0</td>\n",
       "      <td>0</td>\n",
       "      <td>26</td>\n",
       "      <td>73</td>\n",
       "      <td>-29</td>\n",
       "    </tr>\n",
       "  </tbody>\n",
       "</table>\n",
       "</div>"
      ],
      "text/plain": [
       "   index                                              Tweet  WordCount  \\\n",
       "0      0  🤎new pixelart🤎 draw drawing drawings paint pai...        106   \n",
       "1      1  🤎new pixelart🤎 draw drawing drawings paint pai...        117   \n",
       "2      2  Just me or is crushing it on the new phone fro...        121   \n",
       "3      3  Google Pixel 6 will be without charger 😱 Read ...        127   \n",
       "4      4  Same in India but you are luck that you will g...         59   \n",
       "5      5  nerdy Google Pixel 6 rumors Release date in ho...        120   \n",
       "6      6  Google Pixel 6 rumors Release date in house ch...        130   \n",
       "7      7  Google will not include a charger with the Pix...         99   \n",
       "8      8  Master18 Google Pixel 6 and 6 Pro may support ...        125   \n",
       "9      9       No charger in Pixel 6 😮😭 Pixel6 GooglePixel6         44   \n",
       "\n",
       "   Polarity  Subjectivity  Sentiment  Positivity  Negativity  Neutralness  \\\n",
       "0         0             0          1           0           0          100   \n",
       "1         0             0          1           0           0          100   \n",
       "2         7            68          0           0           9           90   \n",
       "3        35            55          1           0           0          100   \n",
       "4         0            12          2          25           0           75   \n",
       "5        50            50          0           0           5           94   \n",
       "6        50            50          1           0           0          100   \n",
       "7         0            10          1           0           0          100   \n",
       "8        10            80          2          13           9           77   \n",
       "9         0             0          0           0          26           73   \n",
       "\n",
       "   Compoundness  \n",
       "0             0  \n",
       "1             0  \n",
       "2           -36  \n",
       "3             0  \n",
       "4            61  \n",
       "5            -5  \n",
       "6             0  \n",
       "7             0  \n",
       "8            20  \n",
       "9           -29  "
      ]
     },
     "execution_count": 35,
     "metadata": {},
     "output_type": "execute_result"
    }
   ],
   "source": [
    "df_tweetdata.head(10)"
   ]
  },
  {
   "cell_type": "code",
   "execution_count": 36,
   "id": "2c5ccbcc-6e2c-4075-aa2e-9080e17faf39",
   "metadata": {},
   "outputs": [
    {
     "data": {
      "image/png": "[encoded data removed]",
      "text/plain": [
       "<Figure size 1080x576 with 2 Axes>"
      ]
     },
     "metadata": {
      "needs_background": "light"
     },
     "output_type": "display_data"
    }
   ],
   "source": [
    "import seaborn as sns\n",
    "c = df_tweetdata.corr(method = 'kendall')\n",
    "plt.figure(figsize=(15,8))\n",
    "sns.heatmap(c, annot=True)\n",
    "plt.show()"
   ]
  },
  {
   "cell_type": "code",
   "execution_count": 37,
   "id": "caf1ea4d-efe7-4701-81ad-6defe93b78ed",
   "metadata": {},
   "outputs": [],
   "source": [
    "feature_cols = ['Subjectivity','Sentiment','Positivity','Negativity','Compoundness']\n",
    "X = df_tweetdata[feature_cols] # Features\n",
    "y = df_tweetdata.Polarity # Target variable"
   ]
  },
  {
   "cell_type": "code",
   "execution_count": 38,
   "id": "11aa99de-0ca9-4a6f-8bfe-135a10d663e2",
   "metadata": {},
   "outputs": [],
   "source": [
    "#X_train,X_test,y_train,y_test=train_test_split(X,y,test_size=0.25,random_state=0)"
   ]
  },
  {
   "cell_type": "code",
   "execution_count": 39,
   "id": "c3d30747-8b5a-45e3-b1c7-896d9518693e",
   "metadata": {},
   "outputs": [],
   "source": [
    "logreg = LogisticRegression()"
   ]
  },
  {
   "cell_type": "code",
   "execution_count": 43,
   "id": "812fc07c-c429-406d-8c05-c56bbd09a38b",
   "metadata": {},
   "outputs": [],
   "source": [
    "def get_best_randomstate(X,y):\n",
    "    ts_score=[]\n",
    "    for j in range(1000):\n",
    "        X_train,X_test,y_train,y_test=train_test_split(X,y,test_size=0.20,random_state=j)\n",
    "        logreg.fit(X_train,y_train)\n",
    "        y_pred=logreg.predict(X_test)\n",
    "        ts_score.append(metrics.accuracy_score(y_test, y_pred))\n",
    "\n",
    "    J= ts_score.index(np.max(ts_score))\n",
    "    return J"
   ]
  },
  {
   "cell_type": "code",
   "execution_count": 44,
   "id": "3a437225-d538-4453-b249-38bfe931729c",
   "metadata": {},
   "outputs": [
    {
     "name": "stdout",
     "output_type": "stream",
     "text": [
      "0.6533333333333333\n"
     ]
    }
   ],
   "source": [
    "J = get_best_randomstate(X,y)\n",
    "\n",
    "X_train,X_test,y_train,y_test=train_test_split(X,y,test_size=0.20,random_state=J)\n",
    "logreg.fit(X_train,y_train)\n",
    "y_pred=logreg.predict(X_test)\n",
    "print(metrics.accuracy_score(y_test, y_pred))"
   ]
  },
  {
   "cell_type": "code",
   "execution_count": 45,
   "id": "ea43210b-ad35-4bbf-880e-0e152fafe163",
   "metadata": {},
   "outputs": [
    {
     "name": "stdout",
     "output_type": "stream",
     "text": [
      "695\n"
     ]
    }
   ],
   "source": [
    "print(J)"
   ]
  },
  {
   "cell_type": "code",
   "execution_count": 46,
   "id": "8c2f71da-cc95-43a3-ab1f-e45540b181f1",
   "metadata": {},
   "outputs": [
    {
     "name": "stdout",
     "output_type": "stream",
     "text": [
      "Accuracy: 0.6533333333333333\n",
      "Precision: [1.         0.         0.         0.84313725 0.         1.\n",
      " 0.         0.16666667 0.         0.         0.         0.\n",
      " 0.         0.         0.         0.         0.         0.33333333\n",
      " 0.         0.         0.         0.33333333]\n",
      "Recall: [1.         0.         0.         0.97727273 0.         0.5\n",
      " 0.         0.25       0.         0.         0.         0.\n",
      " 0.         0.         0.         0.         0.         0.5\n",
      " 0.         0.         0.         1.        ]\n"
     ]
    }
   ],
   "source": [
    "print(\"Accuracy:\",metrics.accuracy_score(y_test, y_pred))\n",
    "print(\"Precision:\",metrics.precision_score(y_test, y_pred,average=None))\n",
    "print(\"Recall:\",metrics.recall_score(y_test, y_pred,average=None))"
   ]
  },
  {
   "cell_type": "code",
   "execution_count": null,
   "id": "63e70611-83a6-4b85-865e-8d6b5a166e50",
   "metadata": {},
   "outputs": [],
   "source": []
  }
 ],
 "metadata": {
  "kernelspec": {
   "display_name": "Python 3",
   "language": "python",
   "name": "python3"
  },
  "language_info": {
   "codemirror_mode": {
    "name": "ipython",
    "version": 3
   },
   "file_extension": ".py",
   "mimetype": "text/x-python",
   "name": "python",
   "nbconvert_exporter": "python",
   "pygments_lexer": "ipython3",
   "version": "3.7.1"
  }
 },
 "nbformat": 4,
 "nbformat_minor": 5
}
